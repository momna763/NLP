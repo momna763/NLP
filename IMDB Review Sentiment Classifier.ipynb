{
  "nbformat": 4,
  "nbformat_minor": 0,
  "metadata": {
    "colab": {
      "provenance": [],
      "authorship_tag": "ABX9TyMwQajXpPrK1uziBmDL7uts",
      "include_colab_link": true
    },
    "kernelspec": {
      "name": "python3",
      "display_name": "Python 3"
    },
    "language_info": {
      "name": "python"
    }
  },
  "cells": [
    {
      "cell_type": "markdown",
      "metadata": {
        "id": "view-in-github",
        "colab_type": "text"
      },
      "source": [
        "<a href=\"https://colab.research.google.com/github/momna763/NLP/blob/main/IMDB%20Review%20Sentiment%20Classifier.ipynb\" target=\"_parent\"><img src=\"https://colab.research.google.com/assets/colab-badge.svg\" alt=\"Open In Colab\"/></a>"
      ]
    },
    {
      "cell_type": "code",
      "execution_count": 19,
      "metadata": {
        "colab": {
          "base_uri": "https://localhost:8080/",
          "height": 830
        },
        "id": "ZNNc5nlvbmmy",
        "outputId": "1c2a18b5-1fbe-457c-c91d-d8ac0128425b"
      },
      "outputs": [
        {
          "output_type": "stream",
          "name": "stdout",
          "text": [
            "Sentiment values after mapping: [1 0]\n",
            "Accuracy: 0.85\n",
            "              precision    recall  f1-score   support\n",
            "\n",
            "           0       0.83      0.88      0.85      4961\n",
            "           1       0.87      0.82      0.85      5039\n",
            "\n",
            "    accuracy                           0.85     10000\n",
            "   macro avg       0.85      0.85      0.85     10000\n",
            "weighted avg       0.85      0.85      0.85     10000\n",
            "\n",
            "Running Gradio in a Colab notebook requires sharing enabled. Automatically setting `share=True` (you can turn this off by setting `share=False` in `launch()` explicitly).\n",
            "\n",
            "Colab notebook detected. To show errors in colab notebook, set debug=True in launch()\n",
            "* Running on public URL: https://9792cfc67e2a126a2d.gradio.live\n",
            "\n",
            "This share link expires in 72 hours. For free permanent hosting and GPU upgrades, run `gradio deploy` from the terminal in the working directory to deploy to Hugging Face Spaces (https://huggingface.co/spaces)\n"
          ]
        },
        {
          "output_type": "display_data",
          "data": {
            "text/plain": [
              "<IPython.core.display.HTML object>"
            ],
            "text/html": [
              "<div><iframe src=\"https://9792cfc67e2a126a2d.gradio.live\" width=\"100%\" height=\"500\" allow=\"autoplay; camera; microphone; clipboard-read; clipboard-write;\" frameborder=\"0\" allowfullscreen></iframe></div>"
            ]
          },
          "metadata": {}
        },
        {
          "output_type": "execute_result",
          "data": {
            "text/plain": []
          },
          "metadata": {},
          "execution_count": 19
        }
      ],
      "source": [
        "\n",
        "# Step 2: Load the Dataset\n",
        "import pandas as pd\n",
        "\n",
        "# Load the dataset (make sure to upload the CSV file to Colab)\n",
        "df = pd.read_csv('IMDBDataset.csv')\n",
        "\n",
        "# Preprocess the sentiment column\n",
        "df['sentiment'] = df['class'].map({'positive': 1, 'negative': 0})\n",
        "\n",
        "# Verify the conversion\n",
        "print(\"Sentiment values after mapping:\", df['sentiment'].unique())\n",
        "\n",
        "# Preprocess the reviews\n",
        "import re\n",
        "from bs4 import BeautifulSoup\n",
        "\n",
        "def preprocess_text(text):\n",
        "    # Check if the text contains HTML and parse if necessary\n",
        "    if '<' in text and '>' in text:\n",
        "        text = BeautifulSoup(text, \"html.parser\").get_text()\n",
        "\n",
        "    # Convert to lowercase\n",
        "    text = text.lower()\n",
        "    # Remove punctuation and numbers\n",
        "    text = re.sub(r'[^\\w\\s]', '', text)  # Remove punctuation\n",
        "    # Remove extra whitespace\n",
        "    text = re.sub(r'\\s+', ' ', text).strip()\n",
        "\n",
        "    return text\n",
        "\n",
        "# Apply preprocessing to the review column\n",
        "df['review'] = df['review'].apply(preprocess_text)\n",
        "# Step 4: Feature Extraction\n",
        "from sklearn.model_selection import train_test_split\n",
        "from sklearn.feature_extraction.text import CountVectorizer\n",
        "\n",
        "# Split the data into training and test sets\n",
        "X = df['review']\n",
        "y = df['sentiment']\n",
        "X_train, X_test, y_train, y_test = train_test_split(X, y, test_size=0.2, random_state=42)\n",
        "\n",
        "# Convert text data to numerical data using Count Vectorization\n",
        "vectorizer = CountVectorizer()\n",
        "X_train_vectorized = vectorizer.fit_transform(X_train)\n",
        "X_test_vectorized = vectorizer.transform(X_test)\n",
        "\n",
        "# Step 5: Train the Naïve Bayes Model\n",
        "from sklearn.naive_bayes import MultinomialNB\n",
        "\n",
        "model = MultinomialNB()\n",
        "model.fit(X_train_vectorized, y_train)\n",
        "\n",
        "# Step 6: Evaluate the Model\n",
        "from sklearn.metrics import accuracy_score, classification_report\n",
        "\n",
        "# Predict on the test set\n",
        "y_pred = model.predict(X_test_vectorized)\n",
        "\n",
        "# Evaluate the accuracy\n",
        "accuracy = accuracy_score(y_test, y_pred)\n",
        "print(f'Accuracy: {accuracy:.2f}')\n",
        "\n",
        "# Print classification report\n",
        "print(classification_report(y_test, y_pred))\n",
        "\n",
        "# Step 7: Build a User Interface\n",
        "import gradio as gr\n",
        "\n",
        "def predict_sentiment(review):\n",
        "    # Preprocess the review\n",
        "    review_cleaned = preprocess_text(review)\n",
        "    review_vectorized = vectorizer.transform([review_cleaned])\n",
        "    prediction = model.predict(review_vectorized)\n",
        "    return 'Positive' if prediction[0] == 1 else 'Negative'\n",
        "\n",
        "# Create a Gradio interface\n",
        "iface = gr.Interface(fn=predict_sentiment, inputs=\"text\", outputs=\"text\",\n",
        "                     title=\"IMDB Review Sentiment Classifier\",\n",
        "                     description=\"Enter a movie review to predict its sentiment (Positive/Negative).\")\n",
        "iface.launch()\n"
      ]
    },
    {
      "cell_type": "code",
      "source": [],
      "metadata": {
        "id": "_SDS-Ty0b993"
      },
      "execution_count": null,
      "outputs": []
    }
  ]
}